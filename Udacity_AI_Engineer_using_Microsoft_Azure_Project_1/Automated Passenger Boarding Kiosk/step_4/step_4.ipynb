{
 "cells": [
  {
   "cell_type": "markdown",
   "metadata": {},
   "source": [
    "### Please install the required Python modules/SDKs"
   ]
  },
  {
   "cell_type": "code",
   "execution_count": 1,
   "metadata": {},
   "outputs": [],
   "source": [
    "! activate ai-azure-c1\n",
    "\n",
    "import sys\n",
    "\n",
    "sys.path.append(\"/opt/conda/envs/ai-azure-c1/lib/python3.8/site-packages\")"
   ]
  },
  {
   "cell_type": "markdown",
   "metadata": {},
   "source": [
    "## Step 4: Lighter Detection Using Azure Custom Vision"
   ]
  },
  {
   "cell_type": "code",
   "execution_count": 2,
   "metadata": {},
   "outputs": [],
   "source": [
    "import requests\n",
    "from urllib.parse import urlparse\n",
    "from io import BytesIO\n",
    "from PIL import Image, ImageDraw\n",
    "import matplotlib.pyplot as plt\n",
    "import os, time, uuid, glob"
   ]
  },
  {
   "cell_type": "code",
   "execution_count": 3,
   "metadata": {},
   "outputs": [],
   "source": [
    "from azure.cognitiveservices.vision.customvision.training import CustomVisionTrainingClient\n",
    "from azure.cognitiveservices.vision.customvision.prediction import CustomVisionPredictionClient\n",
    "from azure.cognitiveservices.vision.customvision.training.models import ImageFileCreateBatch, ImageFileCreateEntry, Region\n",
    "from msrest.authentication import ApiKeyCredentials"
   ]
  },
  {
   "cell_type": "markdown",
   "metadata": {},
   "source": [
    "### Step 4.1. Creating Training & Prediting Client with credentials"
   ]
  },
  {
   "cell_type": "code",
   "execution_count": 4,
   "metadata": {},
   "outputs": [],
   "source": [
    "CUSTOM_VISION_TRAINING_ENDPOINT_KEY = \"29d644563b524d7c8dbff1f6695f8ed8\"\n",
    "CUSTOM_VISION_TRAINING_ENDPOINT = \"https://anhthcustomvisions.cognitiveservices.azure.com/\"\n",
    "CUSTOM_VISION_TRAINING_ENDPOINT_RESOUCRE_ID = '/subscriptions/4c2045fc-9062-469b-a04d-fce56e0512a0/resourceGroups/aind-201553/providers/Microsoft.CognitiveServices/accounts/anhthcustomvisions'"
   ]
  },
  {
   "cell_type": "code",
   "execution_count": 5,
   "metadata": {},
   "outputs": [],
   "source": [
    "CUSTOM_VISION_PREDICTION_KEY = \"a35ab94feccb4685ab3ef2961da54b0b\"\n",
    "CUSTOM_VISION_PREDICTION_ENDPOINT = 'https://anhthcustomvisions-prediction.cognitiveservices.azure.com/'\n",
    "CUSTOM_VISION_PREDICTION_ENDPOINT_RESOURCE_ID = \"/subscriptions/4c2045fc-9062-469b-a04d-fce56e0512a0/resourceGroups/aind-201553/providers/Microsoft.CognitiveServices/accounts/anhthcustomvisions-Prediction\""
   ]
  },
  {
   "cell_type": "code",
   "execution_count": 6,
   "metadata": {},
   "outputs": [
    {
     "data": {
      "text/plain": [
       "'3.4-preview'"
      ]
     },
     "execution_count": 6,
     "metadata": {},
     "output_type": "execute_result"
    }
   ],
   "source": [
    "train = ApiKeyCredentials(in_headers={\"Training-key\": CUSTOM_VISION_TRAINING_ENDPOINT_KEY})\n",
    "train = CustomVisionTrainingClient(CUSTOM_VISION_TRAINING_ENDPOINT, train)\n",
    "train.api_version"
   ]
  },
  {
   "cell_type": "code",
   "execution_count": 7,
   "metadata": {},
   "outputs": [
    {
     "data": {
      "text/plain": [
       "'3.1'"
      ]
     },
     "execution_count": 7,
     "metadata": {},
     "output_type": "execute_result"
    }
   ],
   "source": [
    "pre = ApiKeyCredentials(in_headers={\"Prediction-key\": CUSTOM_VISION_PREDICTION_KEY})\n",
    "pre = CustomVisionPredictionClient(CUSTOM_VISION_PREDICTION_ENDPOINT, pre)\n",
    "pre.api_version"
   ]
  },
  {
   "cell_type": "markdown",
   "metadata": {},
   "source": [
    "### Step 4.2. Get project ID and iteration ID from portal"
   ]
  },
  {
   "cell_type": "code",
   "execution_count": 15,
   "metadata": {},
   "outputs": [
    {
     "name": "stdout",
     "output_type": "stream",
     "text": [
      "Project ID:  5469dd51-9f65-4cec-a46c-bd089ed148d6\n"
     ]
    }
   ],
   "source": [
    "project_id = train.get_projects()[0].id # Assume this is the only project on portal\n",
    "print(\"Project ID: \", id)"
   ]
  },
  {
   "cell_type": "code",
   "execution_count": 19,
   "metadata": {},
   "outputs": [],
   "source": [
    "iteration_list = train.get_iterations(project_id)\n",
    "iteration_id = None\n",
    "for iteration in iteration_list:\n",
    "    if iteration.name == \"Iteration 2\":\n",
    "        iteration_id = iteration.id"
   ]
  },
  {
   "cell_type": "markdown",
   "metadata": {},
   "source": [
    "### Step 4.3. Publish api with selected training iteration"
   ]
  },
  {
   "cell_type": "code",
   "execution_count": 20,
   "metadata": {},
   "outputs": [
    {
     "name": "stdout",
     "output_type": "stream",
     "text": [
      "Done!\n"
     ]
    }
   ],
   "source": [
    "publish_name = \"Lighter_Detection_Udacity\"\n",
    "train.publish_iteration(project_id = project_id, iteration_id = iteration_id, publish_name = publish_name, prediction_id = CUSTOM_VISION_PREDICTION_ENDPOINT_RESOURCE_ID)\n",
    "print (\"Done!\")"
   ]
  },
  {
   "cell_type": "markdown",
   "metadata": {},
   "source": [
    "### Step 4.4. Perform prediction on test baggage images"
   ]
  },
  {
   "cell_type": "code",
   "execution_count": 21,
   "metadata": {},
   "outputs": [],
   "source": [
    "def perform_prediction(predictor, publish_name, test_pathr=\"./lighter_detection_data_test/\", threshold=0.8):\n",
    "    list_img_path = glob.glob(os.path.join(test_pathr, '*.jpg'))\n",
    "    for img_path in list_img_path:\n",
    "        print(\"Predict the image path :\", img_path)\n",
    "        with open(img_path, \"rb\") as img:\n",
    "            results = predictor.detect_image(project_id, publish_name, img.read())\n",
    "            # Display the results.\n",
    "            for prediction in results.predictions:\n",
    "                if prediction.probability >= threshold:\n",
    "                    print(\"\\t\" + prediction.tag_name +\n",
    "                          \": {0:.2f}%\".format(prediction.probability * 100))"
   ]
  },
  {
   "cell_type": "code",
   "execution_count": 24,
   "metadata": {},
   "outputs": [
    {
     "name": "stdout",
     "output_type": "stream",
     "text": [
      "Predict the image path : ./lighter_detection_data_test/lighter_test_set_4of5.jpg\n",
      "\tlighter: 97.33%\n",
      "\tlighter: 85.62%\n",
      "Predict the image path : ./lighter_detection_data_test/lighter_test_set_5of5.jpg\n",
      "\tlighter: 86.60%\n",
      "Predict the image path : ./lighter_detection_data_test/lighter_test_set_2of5.jpg\n",
      "\tlighter: 97.17%\n",
      "\tlighter: 96.00%\n",
      "\tlighter: 91.10%\n",
      "Predict the image path : ./lighter_detection_data_test/lighter_test_set_3of5.jpg\n",
      "\tlighter: 97.80%\n",
      "Predict the image path : ./lighter_detection_data_test/lighter_test_set_1of5.jpg\n",
      "\tlighter: 96.33%\n",
      "\tlighter: 87.60%\n"
     ]
    }
   ],
   "source": [
    "perform_prediction(pre, publish_name)"
   ]
  },
  {
   "cell_type": "code",
   "execution_count": null,
   "metadata": {},
   "outputs": [],
   "source": []
  }
 ],
 "metadata": {
  "kernelspec": {
   "display_name": "Python 3.7.13 ('Tank')",
   "language": "python",
   "name": "python3"
  },
  "language_info": {
   "codemirror_mode": {
    "name": "ipython",
    "version": 3
   },
   "file_extension": ".py",
   "mimetype": "text/x-python",
   "name": "python",
   "nbconvert_exporter": "python",
   "pygments_lexer": "ipython3",
   "version": "3.7.13"
  },
  "vscode": {
   "interpreter": {
    "hash": "4e3dfef0e7f65a2f79ca19eba34112a1aeaf617cc2387fdccc56fa9a85be913a"
   }
  }
 },
 "nbformat": 4,
 "nbformat_minor": 2
}
